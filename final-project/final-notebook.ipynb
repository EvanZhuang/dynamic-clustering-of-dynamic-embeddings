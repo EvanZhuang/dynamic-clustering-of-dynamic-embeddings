{
 "cells": [
  {
   "cell_type": "markdown",
   "metadata": {},
   "source": [
    "# Clustering on bernoulli embeddings model with dynamic context"
   ]
  },
  {
   "cell_type": "markdown",
   "metadata": {},
   "source": [
    "*Yufan Zhuang*<br>\n",
    "*Xuewei Du*<br>\n",
    "*Columbia University*"
   ]
  },
  {
   "cell_type": "markdown",
   "metadata": {},
   "source": [
    "## Introduction"
   ]
  },
  {
   "cell_type": "markdown",
   "metadata": {},
   "source": [
    "Word embeddings are powerful in terms of learning latent semantic structure in language.  Recently, Rudolph and Blei (Rudolph and Blei, 2018) explained dynamic embeddings for language evolution, in which he used exponential family embeddings (Rudolph et al., 2018) which can change over time to capture the change in meanings of words over time. Here in this report, we would like to elaborate some findings on modification of the previous models, where we will have context vectors that change over time, and we will have Gaussian Mixture Model(GMM) to cluster words. We study how this new model performs on United Nations general debates data. "
   ]
  },
  {
   "cell_type": "markdown",
   "metadata": {},
   "source": [
    "### Background"
   ]
  },
  {
   "cell_type": "markdown",
   "metadata": {},
   "source": [
    "#### Word embeddings"
   ]
  },
  {
   "cell_type": "markdown",
   "metadata": {},
   "source": [
    "Word embeddings can be used to represent text data. For instance, in frequency based embedding, if we do one-hot encoding on a particular text data, then we will have a vector of the same length as the number of unique words to represent each word. To represent a particular word, we can set the corresponding position in the vector to 1, and others to 0. However, more generally, we do not necessarily have to use such high dimensional vectors to represent words. We can have one vector of much lower dimension(i.e. a much shorter vector) to represent a word, and each position in that vector can be decimal numbers instead of (0,1). In probabilistic programming setting, each position in this embedding vector can be viewed as a parameter. "
   ]
  },
  {
   "cell_type": "markdown",
   "metadata": {},
   "source": [
    "#### Context vector"
   ]
  },
  {
   "cell_type": "markdown",
   "metadata": {},
   "source": [
    "Each word in the observed text is not only dependent upon word embeddings but also its context. This means each word is related to a few words before and after itself. As Rudolph and Blei (Rudolph and Blei, 2018) pointed out in the paper, the typical context has a size between 2 and 10, and each word is modeled conditionally on the words before and after. "
   ]
  },
  {
   "cell_type": "markdown",
   "metadata": {},
   "source": [
    "#### Prior Work"
   ]
  },
  {
   "cell_type": "markdown",
   "metadata": {},
   "source": [
    "Rudolph and Blei (Rudolph and Blei, 2018) explained how dynamic embeddings work. In particular, for each time slice, there are some observed words. Each observed word is dependent upon both its embeddings under the same time slice and its context vector which is shared among all time slices. Over time, the embeddings change while the context stays the same. "
   ]
  },
  {
   "cell_type": "markdown",
   "metadata": {},
   "source": [
    "## Model"
   ]
  },
  {
   "cell_type": "markdown",
   "metadata": {},
   "source": [
    "We are proposing clustering using GMM Bernoulli embeddings and dynamic context vectors. There are practically three components to the model, Bernoulli, dynamic and GMM. "
   ]
  },
  {
   "cell_type": "markdown",
   "metadata": {},
   "source": [
    "<img src=\"dynamic_graph.png\" style=\"width: 600px;\"/>\n"
   ]
  },
  {
   "cell_type": "markdown",
   "metadata": {},
   "source": [
    "Bernoulli means the Bernoulli embedding model (Rudolph and Blei, 2018). Under the Bernoulli embedding model, we have a one-hot encoded embedding vector of length V to represent each word. The corresponding position is 1 for a particular word, and 0 for other positions.  Each position in the embedding vector of each observed word is modeled using Bernoulli distribution with probability $p_{iv}$ for each $v$ in the entire vocabulary $V$. "
   ]
  },
  {
   "cell_type": "markdown",
   "metadata": {},
   "source": [
    "$$P(x_{iv}|x_{c_i}) = Bern(p_{iv})$$. The log odds $\\eta_{iv} = log \\frac{p_{iv}}{1-p_{iv}}$, which is a function of $p_{iv}$, can be specified as "
   ]
  },
  {
   "cell_type": "markdown",
   "metadata": {},
   "source": [
    "$$\\eta_{iv} = \\rho_v^T(\\sum_{j \\in c_i}\\sum_{v'}\\alpha_{v'}x_{jv'})$$ Here $\\rho_v \\in R^K$ represents embeddings and $\\alpha_{v'} \\in R^K$ represents context. The value K is set in advance. Therefore the log-odds is an inner-product between the embeddings and context vectors. "
   ]
  },
  {
   "cell_type": "markdown",
   "metadata": {},
   "source": [
    "Dynamic means dynamic context vector. In particular, the log odds can be specified as the inner-product between the embeddings and **time-specific** context vector. $$\\eta_{iv} = \\rho_v^T(\\sum_{j \\in c_i}\\sum_{v'}\\alpha_{v'}^{(t_i)}x_{jv'})$$ where $t_i$ is the time slice for the word $x_{iv}$. As we can see in the above graph illustration, we have different alphas for different time slices. <br>\n",
    "The prior on dynamic context vectors is Gaussian random walk, which can be specified as follow: $$\\alpha_v^0 \\sim N(0, \\lambda_0^{-1}I)$$ $$\\alpha_v^t \\sim N(\\alpha_v^{t-1}, \\lambda^{-1}I)$$"
   ]
  },
  {
   "cell_type": "markdown",
   "metadata": {},
   "source": [
    "GMM means Gaussian mixture model. We build a GMM on the embedding vectors $\\rho_v$. "
   ]
  },
  {
   "cell_type": "markdown",
   "metadata": {},
   "source": [
    "$$P(\\rho_v | \\pi, \\mu, \\Lambda) = \\Pi_{k=1}^{K}(\\pi_k N(\\rho_v | \\mu_k, \\Lambda_k))$$ "
   ]
  },
  {
   "cell_type": "markdown",
   "metadata": {},
   "source": [
    "The goal is to learn parameters $\\pi$, $\\mu$ and $\\Lambda$. Their prior can be set as "
   ]
  },
  {
   "cell_type": "markdown",
   "metadata": {},
   "source": [
    "$$P(\\pi) \\sim Dir(\\alpha)$$ $$P(\\mu_k) \\sim N(0, I)$$ $$P(\\Lambda_k) \\sim Wishart(V, n)$$."
   ]
  },
  {
   "cell_type": "code",
   "execution_count": null,
   "metadata": {},
   "outputs": [],
   "source": []
  },
  {
   "cell_type": "markdown",
   "metadata": {},
   "source": [
    "## Data"
   ]
  },
  {
   "cell_type": "markdown",
   "metadata": {},
   "source": [
    "The data we use is regarding United Nations general debates (Kaggle.com, 2018). It has transcripts of general debates from 1970 to 2016. Each row in the data represents a speech given by a particular country’s representative in a particular year and session. The raw data has four columns: session, year, country and text. Session means the UN session and there is one session per year. Country means the country which the representative is from. Text means the transcript of the representative’s speech. <br>\n",
    "\n",
    "Preprocessing: Since the data is in years, it is natural to set each time slice to be a year. All the speeches in the same year are attached together. In the resulting data folder, we have one txt file for each year, and each txt file includes all the speeches in that year. "
   ]
  },
  {
   "cell_type": "code",
   "execution_count": 3,
   "metadata": {},
   "outputs": [
    {
     "name": "stdout",
     "output_type": "stream",
     "text": [
      "Total number of vocabulary is about 106513\n",
      "\n",
      "\n",
      "Number of speeches in a year: \n",
      "count     46.000000\n",
      "mean     163.195652\n",
      "std       27.982232\n",
      "min       70.000000\n",
      "25%      145.500000\n",
      "50%      169.500000\n",
      "75%      189.000000\n",
      "max      195.000000\n",
      "dtype: float64\n",
      "Total number of speeches in all years: 7507\n"
     ]
    }
   ],
   "source": [
    "# Data is not included in the github repo because of its size. \n",
    "import pandas as pd\n",
    "import numpy as np\n",
    "data_df = pd.read_csv(\"un-general-debates.csv\", encoding='utf-8')\n",
    "num_speeches = []\n",
    "vocab_total = set()\n",
    "for single_year in range(1970, 2016):\n",
    "    debate_single_year = data_df.loc[data_df.year == single_year][\"text\"]\n",
    "    # print(len(debate_single_year))\n",
    "    num_speeches.append(len(debate_single_year))\n",
    "    debate_single_year = debate_single_year.str.cat()\n",
    "    debate_single_year = debate_single_year.replace(\"\\n\", \" \").replace(\"\\t\", \" \")\n",
    "    debate_single_year = debate_single_year.replace(\"   \", \" \").replace(\"  \", \" \")\n",
    "    debate_single_year = debate_single_year.replace(\",\", \"\").replace(\".\", \"\")\n",
    "    debate_single_year = debate_single_year.replace(\"?\", \"\").lower()\n",
    "    \n",
    "    vocab_single_year = set(debate_single_year.split())\n",
    "    vocab_total = vocab_total.union(vocab_single_year)\n",
    "    \n",
    "print(\"Total number of vocabulary is about \" + str(len(vocab_total)))\n",
    "print(\"\\n\")\n",
    "print(\"Number of speeches in a year: \\n\" + str(pd.Series(num_speeches).describe()))\n",
    "print(\"Total number of speeches in all years: \" + str(sum(num_speeches)))"
   ]
  },
  {
   "cell_type": "markdown",
   "metadata": {},
   "source": [
    "As we can see from the above summary, there are about 70-195 speeches each year. The earlier years had less speeches and the later years had more speeches. There are 7507 speeches in the dataset in total. The number of unique words is roughly 100K. "
   ]
  },
  {
   "cell_type": "markdown",
   "metadata": {},
   "source": [
    "## Inference"
   ]
  },
  {
   "cell_type": "markdown",
   "metadata": {},
   "source": [
    "We offer two inference methods for the clustering, Hamiltonian Monte Carlo (HMC) and Stochastic Gradient Descent Variational Inference (SGDVI) to get the Bayes estimate. For the embedding model, we employ stochastic gradient descent to get the MAP estimate."
   ]
  },
  {
   "cell_type": "markdown",
   "metadata": {},
   "source": [
    "### Hamiltonian Monte Carlo"
   ]
  },
  {
   "cell_type": "markdown",
   "metadata": {},
   "source": [
    "<img src=\"hmc_ill.png\"/>\n",
    "(Illustration from Wang et al., 2019)"
   ]
  },
  {
   "cell_type": "markdown",
   "metadata": {},
   "source": [
    "Hamiltonian Monte Carlo was proposed in the late 80s as a method to investigate the structure of particles (Duane et al., 1987). It then was borrowed into the statistics community as a very efficient method to approximate the posterior. The basic idea is that instead of moving randomly as we did in MH, we move around a vector field that we have some directions to follow to get to unexplored regions. We utilized the tensorflow probability to implement this as the following."
   ]
  },
  {
   "cell_type": "code",
   "execution_count": null,
   "metadata": {},
   "outputs": [],
   "source": []
  },
  {
   "cell_type": "markdown",
   "metadata": {},
   "source": [
    "### Stochastic Gradient Descent Variational Inference"
   ]
  },
  {
   "cell_type": "markdown",
   "metadata": {},
   "source": [
    "Due to our setting, we can make the conjugate exponential family (CEF) argument such that under the mean-field assumption, the variational distributions will be in the same form as the distributions that they are trying to approximate."
   ]
  },
  {
   "cell_type": "markdown",
   "metadata": {},
   "source": [
    "$$\n",
    "\\begin{align*}\n",
    "p(\\pi,\\mu,\\Lambda, c|\\rho) \\approx q(\\pi)[\\prod_{j=1}^{K} q(\\mu_j)q(\\Lambda_j)][\\prod_{i=1}^{n} q(c_i)]\n",
    "\\end{align*}$$"
   ]
  },
  {
   "cell_type": "markdown",
   "metadata": {},
   "source": [
    "$$\n",
    "\\begin{align*}\n",
    "q(\\pi) &= Dir(\\alpha_1', \\alpha_2',...,\\alpha_k') \\\\\n",
    "q(\\mu_j) &= N(m_j',\\Sigma_j') \\\\\n",
    "q(\\Lambda_j) &= Wishart(a_j',B_j')  \\\\\n",
    "q(c_i) &= Discrete(\\phi_i) \n",
    "\\end{align*}\n",
    "$$"
   ]
  },
  {
   "cell_type": "markdown",
   "metadata": {},
   "source": [
    "The ELBO is then\n",
    "$$\n",
    "L = E_q[\\ln p(\\rho,\\pi,\\mu,\\Lambda, c) - \\ln q ] + const.\n",
    "$$"
   ]
  },
  {
   "cell_type": "markdown",
   "metadata": {},
   "source": [
    "Analytical optimal update schemes can be derived, but since we are dealing with high-dimensional big data, we choose to use SGD methods instead. "
   ]
  },
  {
   "cell_type": "markdown",
   "metadata": {},
   "source": [
    "The two methods are both implemented as classes."
   ]
  },
  {
   "cell_type": "code",
   "execution_count": null,
   "metadata": {},
   "outputs": [],
   "source": [
    "from models import GMM_HMC\n",
    "from models import GMM_SGAVI"
   ]
  },
  {
   "cell_type": "markdown",
   "metadata": {},
   "source": [
    "## Criticizm"
   ]
  },
  {
   "cell_type": "markdown",
   "metadata": {},
   "source": [
    "Since we built an embedding model and a topic model at the same time, we will evaluate it in two metrics, the log-likelihood and the topic coherence. \n",
    "\n",
    "For the log-likelihood, we compare the likelihood for the positive samples among our model, the dynamic Bernoulli embedding model, and the Bernoulli embedding model.\n",
    "\n",
    "Regarding the topic coherence, it is difficult to define it explicitly so there are multiple indicators come from different perspectives."
   ]
  },
  {
   "cell_type": "markdown",
   "metadata": {},
   "source": [
    "### Experiment Setting"
   ]
  },
  {
   "cell_type": "markdown",
   "metadata": {},
   "source": [
    "We train on top **10000 words, with 5000 training steps, 10 mixture components and embedding dimension of 50**."
   ]
  },
  {
   "cell_type": "markdown",
   "metadata": {},
   "source": [
    "### Training Process and log-likelihood"
   ]
  },
  {
   "cell_type": "markdown",
   "metadata": {},
   "source": [
    "#### Our Model (with HMC)\n",
    "<img title=\"DCEMB\" src=\"DCEMB_LOSS.png\" style=\"display:inline;margin:1px\" width = \"49%\"/>\n",
    "<img title=\"DCEMB\" src=\"DCEMB_MIX.png\"  style=\"display:inline;margin:1px\" width = \"49%\"/>\n",
    "#### Dynamic Embedding Model and Bournoulli Embedding Model\n",
    "<img title=\"DEMB\" src=\"DEMB_LOSS.png\"  style=\"display:inline;margin:1px\" width = \"49%\"/>\n",
    "<img title=\"EMB\" src=\"EMB_LOSS.png\"   style=\"display:inline;margin:1px\" width = \"49%\"/>"
   ]
  },
  {
   "cell_type": "markdown",
   "metadata": {},
   "source": [
    "### Topic Coherence"
   ]
  },
  {
   "cell_type": "markdown",
   "metadata": {},
   "source": [
    "#### $C_{uci}$\n",
    "\n",
    "It measures the co-occurrence probability of every word pairs in a topic (Newman et al., 2010).\n",
    "Suppose we have a topic of three words {one, two, three}. The co-occurrence probability of any two words would be calculated based on sliding windows, for example, if our text is \"One is Two\", the virtual documents with a size 2 sliding window would be {\"One is\", \"is Two\"}.\n",
    "\n",
    "In this case, P(one) = $\\frac{1}{2}$  (appeared once in two virtual documents), P(one, two) = 0 (no co-occurrence of one and two)\n",
    "$$PMI(one, two) = \\frac{log(P(one,two)+\\epsilon)}{P(one)\\cdot P(two)} $$($\\epsilon$ is for smoothing, otherwise we get log(0))\n",
    "\n",
    "$$C_{uci} = \\frac{1}{3}\\cdot[PMI(one, two) + PMI(one, three) + PMI(two, three)]$$\n",
    "\n",
    "#### $U_{mass}$\n",
    "\n",
    "It measures the conditional probability of weaker words given stronger words in a topic (Mimno et al., 2011). The idea is that the occurrence of every top word should be supported by every preceding top word.\n",
    "Followed by our previous {one, two, three} topic.\n",
    "\n",
    "$$U_{mass}  = \\frac{1}{3}\\cdot( K(two|one) + K(three|one) + K(three|two))$$ where $$K(two|one) = \\frac{log (P(two, one) + 1)}{P(one)}$$\n",
    "\n",
    "#### $C_{npmi}$\n",
    "\n",
    "It is an improved version of $C_{uci}$ by adding normalization (Aletras & Stevenson, 2013).\n",
    "It is just like $C_{uci}$ but changed PMI to NPMI (normalized PMI), which is listed below:\n",
    "$$NPMI(one, two)  = (\\frac{\\frac{log( P(one,two)+1)}{P(one)\\cdot P(two)}}{-log(P(one,two)+1)})^\\gamma $$\n",
    "(An increase of $\\gamma$ gives higher NPMI values more weight, $\\gamma$ = 1 is a common choice)\n",
    "\n",
    "#### $C_v$\n",
    "\n",
    "It measures the indirect similarity among words in a topic (Röder et al., 2015).\n",
    "Some words belong to the same topic but they rarely occur together. But the words around them should be similar. For example, suppose we have \"McDonald makes chicken nuggets\" and \"KFC serves chicken nuggets\", we will probably want to put McDonald and KFC together. That's the intuition behind indirect similarity.\n",
    "\n",
    "However, the math is a bit complicated here.\n",
    "\n",
    "The co-occurrence counts are used to calculated the NPMI of every top word to every other top word, thus, resulting in a set of vectors, one for every top word. The calculation of the similarity is done between every top word vector and the sum of all top word vectors. As similarity measure, the cosinus is used."
   ]
  },
  {
   "cell_type": "markdown",
   "metadata": {},
   "source": [
    "| Coherence Measure | DCEMB   |   LDA   |\n",
    "|------|------|------|\n",
    "|   $C_{uci}$  | -7.8974 |**-0.1428**|\n",
    "|   $U_{mass}$  | -6.7553 |**-0.0001**|\n",
    "|   $C_{npmi}$  | -0.2838 |**-0.0388**|\n",
    "|   $C_v$  | **0.4300** |0.2892|"
   ]
  },
  {
   "cell_type": "markdown",
   "metadata": {},
   "source": [
    "### Qualitative Exploration"
   ]
  },
  {
   "cell_type": "markdown",
   "metadata": {},
   "source": [
    "We explore the resulted topics as well as the contextual change of words over time."
   ]
  },
  {
   "cell_type": "markdown",
   "metadata": {},
   "source": [
    "#### Topic Visualization aftering Mapping to $\\mathbb{R}^2$ with TSNE"
   ]
  },
  {
   "cell_type": "markdown",
   "metadata": {},
   "source": [
    "<img title=\"DCEMB\" src=\"rho_1.png\" alt=\"Snow\" style=\"display:inline;margin:1px\" width = \"110%\">\n",
    "<img title=\"DCEMB\" src=\"rho.png\" alt=\"Snow\" style=\"display:inline;margin:1px\" width = \"110%\">"
   ]
  },
  {
   "cell_type": "markdown",
   "metadata": {},
   "source": [
    "#### Top 10 words for each topic"
   ]
  },
  {
   "cell_type": "markdown",
   "metadata": {},
   "source": [
    "| Topic 1 | Topic 2  |   Topic 3  |Topic 4 | Topic 5   |   Topic 6   |Topic 7 | Topic 8   |   Topic 9   |Topic 10|\n",
    "|------|------|------|------|------|------|------|------|------|------|\n",
    "|   fruition | lome | unfulfilled |  andean | subjugation |leone|   tensions  | korean |strongly|   the  |\n",
    "|  migratory  | forceful |uncontrolled| candidature |culminated |denied| achievements  | concept |critical|   of |\n",
    "|  minute  | stature |unjustified| gloomy | obtaining |training|  attempts  | protect|obligations|   and  |\n",
    "|   constituting | commits |spiral|  optional| electricity |white|  addition  | moral |reiterate|  to  |\n",
    "|   daughters  | sadat |blacks| unanimity  |amaral |quickly|   somalia  | court |causes|  in  |\n",
    "|  prudence | dividends |dictate| thant  | differing |bolivia|  borders | millions |participate|   a  |\n",
    "|  champions | thorn |pernicious|  expansionism | agendas |sister|  constitute | around |representatives|   that |\n",
    "|  com  | interpretations |deplores|  persisted  | wasted |inhabitants|  signed | grave |above|   is  |\n",
    "|  edge | rescheduling |graduation|  nationally  |flourish |destroy|  weapon  | light |presence|  for  |\n",
    "|  impatience | nassir |aviv|  steer  | understandable |eradicate|  stage | discrimination |outside|   we |"
   ]
  },
  {
   "cell_type": "markdown",
   "metadata": {},
   "source": [
    "## Reference"
   ]
  },
  {
   "cell_type": "markdown",
   "metadata": {},
   "source": [
    "Wang, Z., M. Broccardo, and J. Song* (2019). Hamiltonian Monte Carlo methods for subset simulation in reliability analysis. Structural Safety. Vol. 76, 51-67"
   ]
  },
  {
   "cell_type": "markdown",
   "metadata": {},
   "source": [
    "Rudolph, M., & Blei, D. (2018, April). Dynamic Embeddings for Language Evolution. In Proceedings of the 2018 World Wide Web Conference on World Wide Web (pp. 1003-1011). International World Wide Web Conferences Steering Committee."
   ]
  },
  {
   "cell_type": "markdown",
   "metadata": {},
   "source": [
    "Rudolph, M., Ruiz, F., Mandt, S., & Blei, D. (2016). Exponential family embeddings. In Advances in Neural Information Processing Systems (pp. 478-486)."
   ]
  },
  {
   "cell_type": "markdown",
   "metadata": {},
   "source": [
    "Kaggle.com. (2018). UN General Debates. [online] Available at: https://www.kaggle.com/unitednations/un-general-debates [Accessed 27 Nov. 2018]."
   ]
  },
  {
   "cell_type": "markdown",
   "metadata": {},
   "source": [
    "Duane, S., Kennedy, A. D., Pendleton, B. J., & Roweth, D. (1987). Hybrid monte carlo. Physics letters B, 195(2), 216-222."
   ]
  },
  {
   "cell_type": "markdown",
   "metadata": {},
   "source": [
    "Newman, D., Lau, J. H., Grieser, K., & Baldwin, T. (2010, June). Automatic evaluation of topic coherence. In Human Language Technologies: The 2010 Annual Conference of the North American Chapter of the Association for Computational Linguistics (pp. 100-108). Association for Computational Linguistics."
   ]
  },
  {
   "cell_type": "markdown",
   "metadata": {},
   "source": [
    "Mimno, D., Wallach, H. M., Talley, E., Leenders, M., & McCallum, A. (2011, July). Optimizing semantic coherence in topic models. In Proceedings of the conference on empirical methods in natural language processing (pp. 262-272). Association for Computational Linguistics."
   ]
  },
  {
   "cell_type": "markdown",
   "metadata": {},
   "source": [
    "Aletras, N., & Stevenson, M. (2013). Evaluating topic coherence using distributional semantics. In Proceedings of the 10th International Conference on Computational Semantics (IWCS 2013)–Long Papers (pp. 13-22)."
   ]
  },
  {
   "cell_type": "markdown",
   "metadata": {},
   "source": [
    "Röder, M., Both, A., & Hinneburg, A. (2015, February). Exploring the space of topic coherence measures. In Proceedings of the eighth ACM international conference on Web search and data mining (pp. 399-408). ACM."
   ]
  }
 ],
 "metadata": {
  "kernelspec": {
   "display_name": "Python 3",
   "language": "python",
   "name": "python3"
  },
  "language_info": {
   "codemirror_mode": {
    "name": "ipython",
    "version": 3
   },
   "file_extension": ".py",
   "mimetype": "text/x-python",
   "name": "python",
   "nbconvert_exporter": "python",
   "pygments_lexer": "ipython3",
   "version": "3.6.4"
  }
 },
 "nbformat": 4,
 "nbformat_minor": 2
}
